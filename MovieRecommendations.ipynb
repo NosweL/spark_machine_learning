{
  "nbformat": 4,
  "nbformat_minor": 0,
  "metadata": {
    "colab": {
      "provenance": []
    },
    "kernelspec": {
      "name": "python3",
      "display_name": "Python 3"
    },
    "language_info": {
      "name": "python"
    }
  },
  "cells": [
    {
      "cell_type": "code",
      "source": [
        "# install pyspark\n",
        "!pip install pyspark"
      ],
      "metadata": {
        "colab": {
          "base_uri": "https://localhost:8080/"
        },
        "id": "lnYs1GKILilF",
        "outputId": "10a729a7-3e77-4c04-8fb6-9227adf6bee7"
      },
      "execution_count": 2,
      "outputs": [
        {
          "output_type": "stream",
          "name": "stdout",
          "text": [
            "Looking in indexes: https://pypi.org/simple, https://us-python.pkg.dev/colab-wheels/public/simple/\n",
            "Collecting pyspark\n",
            "  Downloading pyspark-3.4.0.tar.gz (310.8 MB)\n",
            "\u001b[2K     \u001b[90m━━━━━━━━━━━━━━━━━━━━━━━━━━━━━━━━━━━━━━━\u001b[0m \u001b[32m310.8/310.8 MB\u001b[0m \u001b[31m2.0 MB/s\u001b[0m eta \u001b[36m0:00:00\u001b[0m\n",
            "\u001b[?25h  Preparing metadata (setup.py) ... \u001b[?25l\u001b[?25hdone\n",
            "Requirement already satisfied: py4j==0.10.9.7 in /usr/local/lib/python3.10/dist-packages (from pyspark) (0.10.9.7)\n",
            "Building wheels for collected packages: pyspark\n",
            "  Building wheel for pyspark (setup.py) ... \u001b[?25l\u001b[?25hdone\n",
            "  Created wheel for pyspark: filename=pyspark-3.4.0-py2.py3-none-any.whl size=311317130 sha256=7790e609bfcb92faca00e55db60b37e6a888960371dbbf6fdc32f3e43e0f5ac4\n",
            "  Stored in directory: /root/.cache/pip/wheels/7b/1b/4b/3363a1d04368e7ff0d408e57ff57966fcdf00583774e761327\n",
            "Successfully built pyspark\n",
            "Installing collected packages: pyspark\n",
            "Successfully installed pyspark-3.4.0\n"
          ]
        }
      ]
    },
    {
      "cell_type": "code",
      "source": [
        "# import all libraries\n",
        "import pyspark\n",
        "import pandas as pd\n",
        "import seaborn as sns\n",
        "import matplotlib.pyplot as plt\n",
        "from pyspark import SparkContext, SparkConf\n",
        "from pyspark.sql import SparkSession, SQLContext"
      ],
      "metadata": {
        "id": "84R2Vv6BK5G_"
      },
      "execution_count": 5,
      "outputs": []
    },
    {
      "cell_type": "code",
      "source": [
        "# membuat sesi baru\n",
        "\n",
        "spark = SparkSession.builder.appName('TUGAS 7').getOrCreate()"
      ],
      "metadata": {
        "id": "vQpgxIdGL99K"
      },
      "execution_count": 6,
      "outputs": []
    },
    {
      "cell_type": "code",
      "source": [
        "from pyspark.ml.evaluation import RegressionEvaluator\n",
        "from pyspark.ml.recommendation import ALS\n",
        "from pyspark.sql import Row\n",
        "\n",
        "lines = spark.read.text(\"/content/drive/MyDrive/KULIAH/bigdata/ratings.dat\").rdd\n",
        "parts = lines.map(lambda row: row.value.split(\"::\"))\n",
        "ratingsRDD = parts.map(lambda p: Row(userId=int(p[0]), movieId=int(p[1]),\n",
        "                                     rating=int(p[2]), timestamp=int(p[3])))\n",
        "ratings = spark.createDataFrame(ratingsRDD)\n",
        "(training, test) = ratings.randomSplit([0.8, 0.2])\n",
        "\n",
        "# Build the recommendation model using ALS on the training data\n",
        "# Note we set cold start strategy to 'drop' to ensure we don't get NaN evaluation metrics\n",
        "als = ALS(maxIter=5, regParam=0.01, userCol=\"userId\", itemCol=\"movieId\", ratingCol=\"rating\")\n",
        "model = als.fit(training)\n",
        "\n",
        "# Evaluate the model by computing the RMSE on the test data\n",
        "predictions = model.transform(test)\n",
        "predictions.show()\n",
        "\n",
        "import math\n",
        "result = predictions.rdd.map(lambda row: row['prediction'] - row['rating']).map(lambda x: x*x).filter(lambda x: not math.isnan(x))\n",
        "mse = result.reduce(lambda x,y: x+y)\n"
      ],
      "metadata": {
        "colab": {
          "base_uri": "https://localhost:8080/"
        },
        "id": "kjTttYqyMPvZ",
        "outputId": "18bc4413-6d7e-4de3-8fb7-fac94e1b9f4a"
      },
      "execution_count": 16,
      "outputs": [
        {
          "output_type": "stream",
          "name": "stdout",
          "text": [
            "+------+-------+------+---------+----------+\n",
            "|userId|movieId|rating|timestamp|prediction|\n",
            "+------+-------+------+---------+----------+\n",
            "|     1|   1193|     5|978300760| 4.5257287|\n",
            "|     1|   1566|     4|978824330| 3.5840342|\n",
            "|     1|   2321|     3|978302205| 3.7689948|\n",
            "|     1|   2355|     5|978824291| 3.6951406|\n",
            "|     2|     95|     2|978300143| 2.9876156|\n",
            "|     2|    110|     5|978298625| 4.0177374|\n",
            "|     2|    265|     4|978299026| 3.5477824|\n",
            "|     2|    318|     5|978298413|  4.372512|\n",
            "|     2|    356|     5|978299686| 4.3460965|\n",
            "|     2|    434|     2|978300174|  3.107467|\n",
            "|     2|    442|     3|978300025|  2.996327|\n",
            "|     2|    498|     3|978299418| 1.9809573|\n",
            "|     2|    648|     4|978299913| 3.3774252|\n",
            "|     2|    902|     2|978298905|  3.851349|\n",
            "|     2|    920|     5|978298775| 4.5531044|\n",
            "|     2|   1124|     5|978299418| 4.0952907|\n",
            "|     2|   1193|     5|978298413|  4.023419|\n",
            "|     2|   1207|     4|978298478| 4.3194823|\n",
            "|     2|   1247|     5|978298652| 3.8228645|\n",
            "|     2|   1370|     5|978299889| 3.5934575|\n",
            "+------+-------+------+---------+----------+\n",
            "only showing top 20 rows\n",
            "\n"
          ]
        }
      ]
    },
    {
      "cell_type": "code",
      "source": [],
      "metadata": {
        "id": "Nrcap_YBMVM-"
      },
      "execution_count": null,
      "outputs": []
    }
  ]
}